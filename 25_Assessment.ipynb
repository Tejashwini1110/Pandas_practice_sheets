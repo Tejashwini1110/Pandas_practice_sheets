{
 "cells": [
  {
   "cell_type": "code",
   "execution_count": 2,
   "id": "2fcf27bf-3171-40cb-af1d-247e8452724e",
   "metadata": {},
   "outputs": [
    {
     "name": "stdout",
     "output_type": "stream",
     "text": [
      "Requirement already satisfied: numpy in /Library/Frameworks/Python.framework/Versions/3.13/lib/python3.13/site-packages (2.2.1)\n",
      "Note: you may need to restart the kernel to use updated packages.\n"
     ]
    }
   ],
   "source": [
    "pip install numpy"
   ]
  },
  {
   "cell_type": "code",
   "execution_count": 3,
   "id": "5c48d180-b5a2-4d30-8da2-4100b8ba47a9",
   "metadata": {},
   "outputs": [],
   "source": [
    "import numpy as np"
   ]
  },
  {
   "cell_type": "code",
   "execution_count": 4,
   "id": "eef828f0-3854-471b-ac36-9221f347ae8b",
   "metadata": {},
   "outputs": [
    {
     "name": "stdout",
     "output_type": "stream",
     "text": [
      "[10 11 12 13 14 15 16 17 18 19 20 21 22 23 24 25 26 27 28 29 30 31 32 33\n",
      " 34 35 36 37 38 39 40 41 42 43 44 45 46 47 48 49 50]\n"
     ]
    }
   ],
   "source": [
    "arr_1d=np.arange(10,51)\n",
    "print(arr_1d)"
   ]
  },
  {
   "cell_type": "code",
   "execution_count": 8,
   "id": "1904fb63-77fa-4aa9-93dc-4c59d0da5636",
   "metadata": {},
   "outputs": [
    {
     "name": "stdout",
     "output_type": "stream",
     "text": [
      "[[0.43039701 0.61050449 0.67675401]\n",
      " [0.91895799 0.52832193 0.38973498]\n",
      " [0.75969594 0.59729675 0.95596277]]\n"
     ]
    }
   ],
   "source": [
    "random_arr=np.random.random((3,3))\n",
    "print(random_arr)"
   ]
  },
  {
   "cell_type": "code",
   "execution_count": 14,
   "id": "d7c57476-1087-497e-9078-c15bfd22ef39",
   "metadata": {},
   "outputs": [
    {
     "name": "stdout",
     "output_type": "stream",
     "text": [
      "Shape: (3, 3)\n"
     ]
    }
   ],
   "source": [
    "print(\"Shape:\",np.shape(random_arr))"
   ]
  },
  {
   "cell_type": "code",
   "execution_count": 15,
   "id": "7971939e-45f4-42c5-85d3-b9bae04d8bf2",
   "metadata": {},
   "outputs": [
    {
     "name": "stdout",
     "output_type": "stream",
     "text": [
      "Size: 9\n"
     ]
    }
   ],
   "source": [
    "print(\"Size:\",np.size(random_arr))"
   ]
  },
  {
   "cell_type": "code",
   "execution_count": 17,
   "id": "427b00b0-8b2c-462c-997b-d68dc167e6c0",
   "metadata": {},
   "outputs": [
    {
     "name": "stdout",
     "output_type": "stream",
     "text": [
      "Datatypes: float64\n"
     ]
    }
   ],
   "source": [
    "print(\"Datatypes:\",random_arr.dtype)"
   ]
  },
  {
   "cell_type": "code",
   "execution_count": 19,
   "id": "e670ae29-5097-4085-afe6-2910d46ad62d",
   "metadata": {},
   "outputs": [
    {
     "name": "stdout",
     "output_type": "stream",
     "text": [
      "Original array: [10 11 12 13 14 15 16 17 18 19 20 21 22 23 24 25 26 27 28 29 30 31 32 33\n",
      " 34 35 36 37 38 39 40 41 42 43 44 45 46 47 48 49 50]\n",
      "Array after adding 5: [15 16 17 18 19 20 21 22 23 24 25 26 27 28 29 30 31 32 33 34 35 36 37 38\n",
      " 39 40 41 42 43 44 45 46 47 48 49 50 51 52 53 54 55]\n"
     ]
    }
   ],
   "source": [
    "arr_add_5=arr_1d+5\n",
    "print(\"Original array:\",arr_1d)\n",
    "print(\"Array after adding 5:\",arr_add_5)"
   ]
  },
  {
   "cell_type": "code",
   "execution_count": 26,
   "id": "1d872bc6-4ba8-43f2-a92e-28e75087a77e",
   "metadata": {},
   "outputs": [
    {
     "name": "stdout",
     "output_type": "stream",
     "text": [
      "[[ 2  6]\n",
      " [ 3 16]]\n"
     ]
    }
   ],
   "source": [
    "arr_2d=np.array([[1,2],[3,4]])\n",
    "arr2_2d=np.array([[2,3],[1,4]])\n",
    "print(arr_2d*arr2_2d)"
   ]
  },
  {
   "cell_type": "code",
   "execution_count": 27,
   "id": "41e96cf9-86ed-4e4e-b1a9-0fc7e8904c9e",
   "metadata": {},
   "outputs": [
    {
     "name": "stdout",
     "output_type": "stream",
     "text": [
      "Array 5x5:\n",
      "[[ 1  2  3  4  5]\n",
      " [ 6  7  8  9 10]\n",
      " [11 12 13 14 15]\n",
      " [16 17 18 19 20]\n",
      " [21 22 23 24 25]]\n",
      "\n",
      "First Row:\n",
      "[1 2 3 4 5]\n",
      "\n",
      "Last Column:\n",
      "[ 5 10 15 20 25]\n",
      "\n",
      "Subarray (first three rows and first two columns):\n",
      "[[ 1  2]\n",
      " [ 6  7]\n",
      " [11 12]]\n"
     ]
    }
   ],
   "source": [
    "import numpy as np\n",
    "array_5x5 = np.arange(1, 26).reshape(5, 5)\n",
    "first_row = array_5x5[0, :]\n",
    "last_column = array_5x5[:, -1]\n",
    "subarray = array_5x5[:3, :2]\n",
    "print(\"Array 5x5:\")\n",
    "print(array_5x5)\n",
    "print(\"\\nFirst Row:\")\n",
    "print(first_row)\n",
    "print(\"\\nLast Column:\")\n",
    "print(last_column)\n",
    "print(\"\\nSubarray (first three rows and first two columns):\")\n",
    "print(subarray)"
   ]
  },
  {
   "cell_type": "code",
   "execution_count": 28,
   "id": "b818d838-a403-4ef7-a593-db47ba3d6504",
   "metadata": {},
   "outputs": [
    {
     "name": "stdout",
     "output_type": "stream",
     "text": [
      "Array: [ 8 42 44 69 80 16 66 43 26 48]\n",
      "Maximum value: 80\n",
      "Minimum value: 8\n",
      "Mean value: 44.2\n",
      "Standard deviation: 21.97635092548351\n"
     ]
    }
   ],
   "source": [
    "import numpy as np\n",
    "random_array = np.random.randint(1, 101, size=10)\n",
    "max_value = np.max(random_array)\n",
    "min_value = np.min(random_array)\n",
    "mean_value = np.mean(random_array)\n",
    "std_dev_value = np.std(random_array)\n",
    "print(\"Array:\", random_array)\n",
    "print(\"Maximum value:\", max_value)\n",
    "print(\"Minimum value:\", min_value)\n",
    "print(\"Mean value:\", mean_value)\n",
    "print(\"Standard deviation:\", std_dev_value)"
   ]
  },
  {
   "cell_type": "code",
   "execution_count": 33,
   "id": "dca6a301-91f2-42f3-b194-911106ee475f",
   "metadata": {},
   "outputs": [
    {
     "name": "stdout",
     "output_type": "stream",
     "text": [
      "[ 1  2  3  4  5  6  7  8  9 10 11 12]\n",
      "[[ 1  2  3  4]\n",
      " [ 5  6  7  8]\n",
      " [ 9 10 11 12]]\n"
     ]
    }
   ],
   "source": [
    "arr_1d=np.arange(1,13)\n",
    "print(arr_1d)\n",
    "arr_reshape=np.array(arr_1d).reshape(3,4)\n",
    "print(arr_reshape)"
   ]
  },
  {
   "cell_type": "code",
   "execution_count": 39,
   "id": "6ac2e52e-e879-48f0-93df-2ca8716f6884",
   "metadata": {},
   "outputs": [
    {
     "name": "stdout",
     "output_type": "stream",
     "text": [
      "[[1. 1. 1.]\n",
      " [1. 1. 1.]\n",
      " [1. 1. 1.]]\n",
      "Result Matrix is:\n",
      " [[2. 3. 4.]\n",
      " [2. 3. 4.]\n",
      " [2. 3. 4.]]\n"
     ]
    }
   ],
   "source": [
    "arr_ones=np.ones((3,3))\n",
    "print(arr_ones)\n",
    "arr=np.array([1,2,3])\n",
    "result_arr=arr_ones+arr\n",
    "print(\"Result Matrix is:\\n\",result_arr)"
   ]
  },
  {
   "cell_type": "code",
   "execution_count": 40,
   "id": "0a71b5db-e399-4a72-8fca-5ad165c08745",
   "metadata": {},
   "outputs": [
    {
     "name": "stdout",
     "output_type": "stream",
     "text": [
      "Random Array:\n",
      "[37 14 49  6  8  9  9 16  7 41]\n",
      "\n",
      "Elements divisible by 5:\n",
      "[]\n"
     ]
    }
   ],
   "source": [
    "import numpy as np\n",
    "random_array = np.random.randint(1, 51, size=10)\n",
    "divisible_by_5 = random_array[random_array % 5 == 0]\n",
    "print(\"Random Array:\")\n",
    "print(random_array)\n",
    "print(\"\\nElements divisible by 5:\")\n",
    "print(divisible_by_5)"
   ]
  },
  {
   "cell_type": "code",
   "execution_count": 43,
   "id": "2d687d1e-3277-4a65-b52e-72f8e36bcc46",
   "metadata": {},
   "outputs": [
    {
     "name": "stdout",
     "output_type": "stream",
     "text": [
      "Matrix A: [[1 2]\n",
      " [3 4]]\n",
      "Matrix B: [[1 3]\n",
      " [2 4]]\n",
      "Multiplication matrix:\n",
      " [[ 5 11]\n",
      " [11 25]]\n"
     ]
    }
   ],
   "source": [
    "A=np.array([[1,2],[3,4]])\n",
    "B=np.array([[1,3],[2,4]])\n",
    "print(\"Matrix A:\",A)\n",
    "print(\"Matrix B:\",B)\n",
    "result=np.matmul(A,B)\n",
    "print(\"Multiplication matrix:\\n\",result)"
   ]
  },
  {
   "cell_type": "code",
   "execution_count": 44,
   "id": "fd15d2b2-f8a1-4c1b-8f8e-36ea4806c2a8",
   "metadata": {},
   "outputs": [
    {
     "name": "stdout",
     "output_type": "stream",
     "text": [
      "4x4 Array:\n",
      "[[ 1  2  3  4]\n",
      " [ 5  6  7  8]\n",
      " [ 9 10 11 12]\n",
      " [13 14 15 16]]\n",
      "\n",
      "Diagonal Elements:\n",
      "[ 1  6 11 16]\n"
     ]
    }
   ],
   "source": [
    "import numpy as np\n",
    "array_4x4 = np.array([[1, 2, 3, 4],\n",
    "                      [5, 6, 7, 8],\n",
    "                      [9, 10, 11, 12],\n",
    "                      [13, 14, 15, 16]])\n",
    "diagonal_elements = array_4x4[np.arange(4), np.arange(4)]\n",
    "print(\"4x4 Array:\")\n",
    "print(array_4x4)\n",
    "print(\"\\nDiagonal Elements:\")\n",
    "print(diagonal_elements)"
   ]
  },
  {
   "cell_type": "code",
   "execution_count": null,
   "id": "f7bbe5eb-057c-423a-af6c-3ae768643c5c",
   "metadata": {},
   "outputs": [],
   "source": []
  }
 ],
 "metadata": {
  "kernelspec": {
   "display_name": "Python 3 (ipykernel)",
   "language": "python",
   "name": "python3"
  },
  "language_info": {
   "codemirror_mode": {
    "name": "ipython",
    "version": 3
   },
   "file_extension": ".py",
   "mimetype": "text/x-python",
   "name": "python",
   "nbconvert_exporter": "python",
   "pygments_lexer": "ipython3",
   "version": "3.13.1"
  }
 },
 "nbformat": 4,
 "nbformat_minor": 5
}
